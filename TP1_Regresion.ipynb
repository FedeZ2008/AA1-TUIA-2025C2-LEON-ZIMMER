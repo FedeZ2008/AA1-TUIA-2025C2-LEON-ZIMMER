{
 "cells": [
  {
   "cell_type": "markdown",
   "id": "f9ab3108",
   "metadata": {},
   "source": [
    "# TP1 - Regresión\n",
    "Notebook inicial para el trabajo práctico."
   ]
  },
  {
   "cell_type": "code",
   "execution_count": 2,
   "id": "4b273a84",
   "metadata": {},
   "outputs": [],
   "source": [
    "# 1. Importación de librerías necesarias\n",
    "import pandas as pd\n",
    "import numpy as np\n",
    "\n",
    "import seaborn as sns\n",
    "import matplotlib.pyplot as plt\n",
    "\n",
    "import plotly.express as px\n",
    "import plotly.graph_objects as go\n",
    "import plotly.figure_factory as ff\n",
    "\n",
    "from sklearn.model_selection import train_test_split\n",
    "from sklearn.preprocessing import StandardScaler   # u otros scalers\n",
    "from sklearn.linear_model import LinearRegression, Lasso, Ridge, ElasticNet, LassoCV, RidgeCV, ElasticNetCV\n",
    "from sklearn.metrics import mean_squared_error, r2_score"
   ]
  },
  {
   "cell_type": "code",
   "execution_count": 3,
   "id": "d27b8c76",
   "metadata": {},
   "outputs": [
    {
     "data": {
      "text/html": [
       "<div>\n",
       "<style scoped>\n",
       "    .dataframe tbody tr th:only-of-type {\n",
       "        vertical-align: middle;\n",
       "    }\n",
       "\n",
       "    .dataframe tbody tr th {\n",
       "        vertical-align: top;\n",
       "    }\n",
       "\n",
       "    .dataframe thead th {\n",
       "        text-align: right;\n",
       "    }\n",
       "</style>\n",
       "<table border=\"1\" class=\"dataframe\">\n",
       "  <thead>\n",
       "    <tr style=\"text-align: right;\">\n",
       "      <th></th>\n",
       "      <th>key</th>\n",
       "      <th>date</th>\n",
       "      <th>fare_amount</th>\n",
       "      <th>pickup_datetime</th>\n",
       "      <th>pickup_longitude</th>\n",
       "      <th>pickup_latitude</th>\n",
       "      <th>dropoff_longitude</th>\n",
       "      <th>dropoff_latitude</th>\n",
       "      <th>passenger_count</th>\n",
       "    </tr>\n",
       "  </thead>\n",
       "  <tbody>\n",
       "    <tr>\n",
       "      <th>0</th>\n",
       "      <td>24238194</td>\n",
       "      <td>2015-05-07 19:52:06.0000003</td>\n",
       "      <td>7.5</td>\n",
       "      <td>2015-05-07 19:52:06 UTC</td>\n",
       "      <td>-73.999817</td>\n",
       "      <td>40.738354</td>\n",
       "      <td>-73.999512</td>\n",
       "      <td>40.723217</td>\n",
       "      <td>1</td>\n",
       "    </tr>\n",
       "    <tr>\n",
       "      <th>1</th>\n",
       "      <td>27835199</td>\n",
       "      <td>2009-07-17 20:04:56.0000002</td>\n",
       "      <td>7.7</td>\n",
       "      <td>2009-07-17 20:04:56 UTC</td>\n",
       "      <td>-73.994355</td>\n",
       "      <td>40.728225</td>\n",
       "      <td>-73.994710</td>\n",
       "      <td>40.750325</td>\n",
       "      <td>1</td>\n",
       "    </tr>\n",
       "    <tr>\n",
       "      <th>2</th>\n",
       "      <td>44984355</td>\n",
       "      <td>2009-08-24 21:45:00.00000061</td>\n",
       "      <td>12.9</td>\n",
       "      <td>2009-08-24 21:45:00 UTC</td>\n",
       "      <td>-74.005043</td>\n",
       "      <td>40.740770</td>\n",
       "      <td>-73.962565</td>\n",
       "      <td>40.772647</td>\n",
       "      <td>1</td>\n",
       "    </tr>\n",
       "    <tr>\n",
       "      <th>3</th>\n",
       "      <td>25894730</td>\n",
       "      <td>2009-06-26 08:22:21.0000001</td>\n",
       "      <td>5.3</td>\n",
       "      <td>2009-06-26 08:22:21 UTC</td>\n",
       "      <td>-73.976124</td>\n",
       "      <td>40.790844</td>\n",
       "      <td>-73.965316</td>\n",
       "      <td>40.803349</td>\n",
       "      <td>3</td>\n",
       "    </tr>\n",
       "    <tr>\n",
       "      <th>4</th>\n",
       "      <td>17610152</td>\n",
       "      <td>2014-08-28 17:47:00.000000188</td>\n",
       "      <td>16.0</td>\n",
       "      <td>2014-08-28 17:47:00 UTC</td>\n",
       "      <td>-73.925023</td>\n",
       "      <td>40.744085</td>\n",
       "      <td>-73.973082</td>\n",
       "      <td>40.761247</td>\n",
       "      <td>5</td>\n",
       "    </tr>\n",
       "  </tbody>\n",
       "</table>\n",
       "</div>"
      ],
      "text/plain": [
       "        key                           date  fare_amount  \\\n",
       "0  24238194    2015-05-07 19:52:06.0000003          7.5   \n",
       "1  27835199    2009-07-17 20:04:56.0000002          7.7   \n",
       "2  44984355   2009-08-24 21:45:00.00000061         12.9   \n",
       "3  25894730    2009-06-26 08:22:21.0000001          5.3   \n",
       "4  17610152  2014-08-28 17:47:00.000000188         16.0   \n",
       "\n",
       "           pickup_datetime  pickup_longitude  pickup_latitude  \\\n",
       "0  2015-05-07 19:52:06 UTC        -73.999817        40.738354   \n",
       "1  2009-07-17 20:04:56 UTC        -73.994355        40.728225   \n",
       "2  2009-08-24 21:45:00 UTC        -74.005043        40.740770   \n",
       "3  2009-06-26 08:22:21 UTC        -73.976124        40.790844   \n",
       "4  2014-08-28 17:47:00 UTC        -73.925023        40.744085   \n",
       "\n",
       "   dropoff_longitude  dropoff_latitude  passenger_count  \n",
       "0         -73.999512         40.723217                1  \n",
       "1         -73.994710         40.750325                1  \n",
       "2         -73.962565         40.772647                1  \n",
       "3         -73.965316         40.803349                3  \n",
       "4         -73.973082         40.761247                5  "
      ]
     },
     "execution_count": 3,
     "metadata": {},
     "output_type": "execute_result"
    }
   ],
   "source": [
    "# 2. Carga de datos. Se carga el dataset que contiene los viajes de taxi.\n",
    "file_path= 'uber_fares.csv'\n",
    "df = pd.read_csv(file_path)\n",
    "\n",
    "# visualizacion de algunos datos\n",
    "df.head()"
   ]
  },
  {
   "cell_type": "markdown",
   "id": "30df1f21",
   "metadata": {},
   "source": [
    "#### Contexto  \n",
    "El proyecto trata sobre **Uber Inc.**, la compañía de taxis más grande del mundo. En este trabajo, nuestro objetivo es **predecir la tarifa de futuros viajes**.  \n",
    "\n",
    "Uber brinda servicio a millones de clientes cada día, por lo que gestionar adecuadamente sus datos es clave para desarrollar nuevas estrategias de negocio y obtener mejores resultados.  \n",
    "\n",
    "### Variables del conjunto de datos  \n",
    "\n",
    "**Variables explicativas:**  \n",
    "- **key**: identificador único de cada viaje.  \n",
    "- **pickup_datetime**: fecha y hora en que se inició el viaje.  \n",
    "- **passenger_count**: cantidad de pasajeros en el vehículo (dato ingresado por el conductor).  \n",
    "- **pickup_longitude**: longitud del punto de inicio del viaje.  \n",
    "- **pickup_latitude**: latitud del punto de inicio del viaje.  \n",
    "- **dropoff_longitude**: longitud del punto de destino.  \n",
    "- **dropoff_latitude**: latitud del punto de destino.  \n",
    "\n",
    "**Variable objetivo (target):**  \n",
    "- **fare_amount**: costo del viaje en dólares.  "
   ]
  },
  {
   "cell_type": "code",
   "execution_count": null,
   "id": "73b83a9a",
   "metadata": {},
   "outputs": [
    {
     "data": {
      "text/plain": [
       "Index(['key', 'date', 'fare_amount', 'pickup_datetime', 'pickup_longitude',\n",
       "       'pickup_latitude', 'dropoff_longitude', 'dropoff_latitude',\n",
       "       'passenger_count'],\n",
       "      dtype='object')"
      ]
     },
     "execution_count": 8,
     "metadata": {},
     "output_type": "execute_result"
    }
   ],
   "source": [
    "# 3. Análisis descriptivo de las variables\n",
    "# Comentario: Se realiza un análisis inicial para comprender el comportamiento de cada variable.\n",
    "# - Descripción estadística (df.describe())\n",
    "# - Visualización de valores únicos y rangos\n",
    "\n",
    "\n",
    "# Columnas, ¿cuáles son variables numéricas y cuales variables categóricas?\n",
    "df.columns\n"
   ]
  },
  {
   "cell_type": "code",
   "execution_count": 5,
   "id": "52715618",
   "metadata": {},
   "outputs": [
    {
     "data": {
      "text/html": [
       "<div>\n",
       "<style scoped>\n",
       "    .dataframe tbody tr th:only-of-type {\n",
       "        vertical-align: middle;\n",
       "    }\n",
       "\n",
       "    .dataframe tbody tr th {\n",
       "        vertical-align: top;\n",
       "    }\n",
       "\n",
       "    .dataframe thead th {\n",
       "        text-align: right;\n",
       "    }\n",
       "</style>\n",
       "<table border=\"1\" class=\"dataframe\">\n",
       "  <thead>\n",
       "    <tr style=\"text-align: right;\">\n",
       "      <th></th>\n",
       "      <th>key</th>\n",
       "      <th>fare_amount</th>\n",
       "      <th>pickup_longitude</th>\n",
       "      <th>pickup_latitude</th>\n",
       "      <th>dropoff_longitude</th>\n",
       "      <th>dropoff_latitude</th>\n",
       "      <th>passenger_count</th>\n",
       "    </tr>\n",
       "  </thead>\n",
       "  <tbody>\n",
       "    <tr>\n",
       "      <th>count</th>\n",
       "      <td>2.000000e+05</td>\n",
       "      <td>200000.000000</td>\n",
       "      <td>200000.000000</td>\n",
       "      <td>200000.000000</td>\n",
       "      <td>199999.000000</td>\n",
       "      <td>199999.000000</td>\n",
       "      <td>200000.000000</td>\n",
       "    </tr>\n",
       "    <tr>\n",
       "      <th>mean</th>\n",
       "      <td>2.771250e+07</td>\n",
       "      <td>11.359955</td>\n",
       "      <td>-72.527638</td>\n",
       "      <td>39.935885</td>\n",
       "      <td>-72.525292</td>\n",
       "      <td>39.923890</td>\n",
       "      <td>1.684535</td>\n",
       "    </tr>\n",
       "    <tr>\n",
       "      <th>std</th>\n",
       "      <td>1.601382e+07</td>\n",
       "      <td>9.901776</td>\n",
       "      <td>11.437787</td>\n",
       "      <td>7.720539</td>\n",
       "      <td>13.117408</td>\n",
       "      <td>6.794829</td>\n",
       "      <td>1.385997</td>\n",
       "    </tr>\n",
       "    <tr>\n",
       "      <th>min</th>\n",
       "      <td>1.000000e+00</td>\n",
       "      <td>-52.000000</td>\n",
       "      <td>-1340.648410</td>\n",
       "      <td>-74.015515</td>\n",
       "      <td>-3356.666300</td>\n",
       "      <td>-881.985513</td>\n",
       "      <td>0.000000</td>\n",
       "    </tr>\n",
       "    <tr>\n",
       "      <th>25%</th>\n",
       "      <td>1.382535e+07</td>\n",
       "      <td>6.000000</td>\n",
       "      <td>-73.992065</td>\n",
       "      <td>40.734796</td>\n",
       "      <td>-73.991407</td>\n",
       "      <td>40.733823</td>\n",
       "      <td>1.000000</td>\n",
       "    </tr>\n",
       "    <tr>\n",
       "      <th>50%</th>\n",
       "      <td>2.774550e+07</td>\n",
       "      <td>8.500000</td>\n",
       "      <td>-73.981823</td>\n",
       "      <td>40.752592</td>\n",
       "      <td>-73.980093</td>\n",
       "      <td>40.753042</td>\n",
       "      <td>1.000000</td>\n",
       "    </tr>\n",
       "    <tr>\n",
       "      <th>75%</th>\n",
       "      <td>4.155530e+07</td>\n",
       "      <td>12.500000</td>\n",
       "      <td>-73.967154</td>\n",
       "      <td>40.767158</td>\n",
       "      <td>-73.963658</td>\n",
       "      <td>40.768001</td>\n",
       "      <td>2.000000</td>\n",
       "    </tr>\n",
       "    <tr>\n",
       "      <th>max</th>\n",
       "      <td>5.542357e+07</td>\n",
       "      <td>499.000000</td>\n",
       "      <td>57.418457</td>\n",
       "      <td>1644.421482</td>\n",
       "      <td>1153.572603</td>\n",
       "      <td>872.697628</td>\n",
       "      <td>208.000000</td>\n",
       "    </tr>\n",
       "  </tbody>\n",
       "</table>\n",
       "</div>"
      ],
      "text/plain": [
       "                key    fare_amount  pickup_longitude  pickup_latitude  \\\n",
       "count  2.000000e+05  200000.000000     200000.000000    200000.000000   \n",
       "mean   2.771250e+07      11.359955        -72.527638        39.935885   \n",
       "std    1.601382e+07       9.901776         11.437787         7.720539   \n",
       "min    1.000000e+00     -52.000000      -1340.648410       -74.015515   \n",
       "25%    1.382535e+07       6.000000        -73.992065        40.734796   \n",
       "50%    2.774550e+07       8.500000        -73.981823        40.752592   \n",
       "75%    4.155530e+07      12.500000        -73.967154        40.767158   \n",
       "max    5.542357e+07     499.000000         57.418457      1644.421482   \n",
       "\n",
       "       dropoff_longitude  dropoff_latitude  passenger_count  \n",
       "count      199999.000000     199999.000000    200000.000000  \n",
       "mean          -72.525292         39.923890         1.684535  \n",
       "std            13.117408          6.794829         1.385997  \n",
       "min         -3356.666300       -881.985513         0.000000  \n",
       "25%           -73.991407         40.733823         1.000000  \n",
       "50%           -73.980093         40.753042         1.000000  \n",
       "75%           -73.963658         40.768001         2.000000  \n",
       "max          1153.572603        872.697628       208.000000  "
      ]
     },
     "execution_count": 5,
     "metadata": {},
     "output_type": "execute_result"
    }
   ],
   "source": [
    "df.describe()"
   ]
  },
  {
   "cell_type": "code",
   "execution_count": 7,
   "id": "aee8af02",
   "metadata": {},
   "outputs": [
    {
     "name": "stdout",
     "output_type": "stream",
     "text": [
      "<class 'pandas.core.frame.DataFrame'>\n",
      "RangeIndex: 200000 entries, 0 to 199999\n",
      "Data columns (total 9 columns):\n",
      " #   Column             Non-Null Count   Dtype  \n",
      "---  ------             --------------   -----  \n",
      " 0   key                200000 non-null  int64  \n",
      " 1   date               200000 non-null  object \n",
      " 2   fare_amount        200000 non-null  float64\n",
      " 3   pickup_datetime    200000 non-null  object \n",
      " 4   pickup_longitude   200000 non-null  float64\n",
      " 5   pickup_latitude    200000 non-null  float64\n",
      " 6   dropoff_longitude  199999 non-null  float64\n",
      " 7   dropoff_latitude   199999 non-null  float64\n",
      " 8   passenger_count    200000 non-null  int64  \n",
      "dtypes: float64(5), int64(2), object(2)\n",
      "memory usage: 13.7+ MB\n"
     ]
    }
   ],
   "source": [
    "df.info()"
   ]
  },
  {
   "cell_type": "code",
   "execution_count": 8,
   "id": "46f6e77b",
   "metadata": {},
   "outputs": [
    {
     "data": {
      "text/plain": [
       "key                  [24238194, 27835199, 44984355, 25894730, 17610...\n",
       "date                 [2015-05-07 19:52:06.0000003, 2009-07-17 20:04...\n",
       "fare_amount          [7.5, 7.7, 12.9, 5.3, 16.0, 4.9, 24.5, 2.5, 9....\n",
       "pickup_datetime      [2015-05-07 19:52:06 UTC, 2009-07-17 20:04:56 ...\n",
       "pickup_longitude     [-73.99981689453125, -73.994355, -74.005043, -...\n",
       "pickup_latitude      [40.73835372924805, 40.728225, 40.74077, 40.79...\n",
       "dropoff_longitude    [-73.99951171875, -73.99471, -73.962565, -73.9...\n",
       "dropoff_latitude     [40.72321701049805, 40.750325, 40.772647, 40.8...\n",
       "passenger_count                             [1, 3, 5, 2, 4, 6, 0, 208]\n",
       "dtype: object"
      ]
     },
     "execution_count": 8,
     "metadata": {},
     "output_type": "execute_result"
    }
   ],
   "source": [
    "df.apply(pd.unique)"
   ]
  },
  {
   "cell_type": "code",
   "execution_count": 9,
   "id": "f277cd9d",
   "metadata": {},
   "outputs": [
    {
     "data": {
      "text/plain": [
       "key                  200000\n",
       "date                 200000\n",
       "fare_amount            1244\n",
       "pickup_datetime      196629\n",
       "pickup_longitude      71066\n",
       "pickup_latitude       83835\n",
       "dropoff_longitude     76894\n",
       "dropoff_latitude      90585\n",
       "passenger_count           8\n",
       "dtype: int64"
      ]
     },
     "execution_count": 9,
     "metadata": {},
     "output_type": "execute_result"
    }
   ],
   "source": [
    "df.nunique()"
   ]
  },
  {
   "cell_type": "code",
   "execution_count": 10,
   "id": "7a7aa794",
   "metadata": {},
   "outputs": [
    {
     "data": {
      "text/plain": [
       "passenger_count\n",
       "1      138425\n",
       "2       29428\n",
       "5       14009\n",
       "3        8881\n",
       "4        4276\n",
       "6        4271\n",
       "0         709\n",
       "208         1\n",
       "Name: count, dtype: int64"
      ]
     },
     "execution_count": 10,
     "metadata": {},
     "output_type": "execute_result"
    }
   ],
   "source": [
    "df['passenger_count'].value_counts()"
   ]
  },
  {
   "cell_type": "code",
   "execution_count": 18,
   "id": "be41ca5d",
   "metadata": {},
   "outputs": [
    {
     "data": {
      "text/plain": [
       "fare_amount\n",
       "-52.00      2\n",
       "-50.50      1\n",
       "-49.57      1\n",
       "-23.70      1\n",
       "-10.90      1\n",
       "-7.30       1\n",
       "-6.90       1\n",
       "-5.70       1\n",
       "-5.50       1\n",
       "-5.00       1\n",
       "-3.50       3\n",
       "-3.30       1\n",
       "-3.00       2\n",
       " 0.00       5\n",
       " 0.01       2\n",
       " 0.11       1\n",
       " 2.50     825\n",
       " 2.60       1\n",
       " 2.90     478\n",
       " 3.00     355\n",
       "Name: count, dtype: int64"
      ]
     },
     "execution_count": 18,
     "metadata": {},
     "output_type": "execute_result"
    }
   ],
   "source": [
    "df['fare_amount'].value_counts().sort_index().head(20)"
   ]
  },
  {
   "cell_type": "markdown",
   "id": "e407a54e",
   "metadata": {},
   "source": [
    "LIMPIEZA DE DATOS\n",
    "Eliminamos los siguientes datos considerados erroneos:\n",
    "- Fare 0 que no sea igual a distancia 0\n",
    "- Fare 0.01 y 0.11 tambien eliminar ya que no se corresponden a la distancia recorrida\n",
    "- Todos los fare negativos tambien se eliminan"
   ]
  },
  {
   "cell_type": "markdown",
   "id": "afc1fcdc",
   "metadata": {},
   "source": [
    "# Ingeniería de Variables para Análisis de Viajes en Taxi\n",
    "\n",
    "## 1. Creación de Variables Derivadas\n",
    "\n",
    "### Distancia entre Origen y Destino\n",
    "- **Distancia Euclidiana**: Calculada en grados entre dos puntos. Es rápida de calcular, aunque no representa la ruta real sobre la superficie terrestre.\n",
    "- **Distancia Haversine**: Calculada en kilómetros o metros, es una medida más precisa para coordenadas geográficas, considerando la curvatura de la Tierra.\n",
    "- **Distancia Absoluta (Manhattan)**: Suma de las diferencias absolutas de latitud y longitud, útil para aproximar trayectos en ciudades con calles en cuadrícula (como Manhattan).\n",
    "\n",
    "### Características Temporales del Viaje\n",
    "Extraídas a partir de `pickup_datetime`:\n",
    "- **Hora del día** (`0-23`): Permite analizar si el horario influye en la tarifa.\n",
    "- **Día de la semana** (`Lunes` a `Domingo`): Útil para detectar diferencias entre días laborables y fines de semana.\n",
    "- **Semana del año**: Puede ayudar a detectar patrones estacionales o eventos especiales.\n",
    "- **Mes** o **Estación del año**: Para analizar estacionalidad en la demanda.\n",
    "- **¿Es hora pico?**: Variable booleana según franjas horarias (ej.: 7-9 AM y 5-7 PM).\n",
    "- **¿Es fin de semana?**: Variable booleana para diferenciar sábados y domingos.\n",
    "\n",
    "### Duración del Viaje\n",
    "- Si se dispone del tiempo de llegada, calcular la duración real.\n",
    "- Si no, **estimar la duración** utilizando la distancia y una velocidad promedio (ejemplo: duración = distancia / velocidad promedio).\n",
    "\n",
    "### Variables de Interacción\n",
    "- **Distancia × Cantidad de Pasajeros**: Para observar si viajes largos con más pasajeros modifican la tarifa por persona.\n",
    "- **Hora × Día de la semana**: Permite captar efectos combinados entre horario y tipo de día.\n",
    "\n",
    "---\n",
    "\n",
    "## 2. Identificación y Tratamiento de Datos Problemáticos\n",
    "\n",
    "### Valores Atípicos (Outliers)\n",
    "- Detectar valores extremos en variables como distancia, tarifa o cantidad de pasajeros.\n",
    "- Analizar si tienen sentido físico (ej.: viajes con distancia cero pero tarifa alta).\n",
    "\n",
    "### Datos Faltantes (Missing Values)\n",
    "- Identificar columnas con valores faltantes.\n",
    "- Decidir el tratamiento adecuado: imputación, eliminación, o reemplazo según el caso.\n",
    "\n",
    "---\n",
    "\n",
    "### Notas\n",
    "- Las variables temporales pueden codificarse como **cualitativas ordinales** para ciertos modelos (ej.: día de la semana, semana del año).\n",
    "- La ingeniería de variables adecuada puede mejorar significativamente el rendimiento de los modelos de regresión y la interpretación de los resultados."
   ]
  },
  {
   "cell_type": "code",
   "execution_count": 22,
   "id": "5c273814",
   "metadata": {},
   "outputs": [],
   "source": [
    "def distancia_euclidiana(lat1, lon1, lat2, lon2):\n",
    "    \"\"\"\n",
    "    Calcula la distancia euclidiana entre dos puntos (lat1, lon1) y (lat2, lon2).\n",
    "    La medida es en grados, porque no considera la curvatura de la tierra.\n",
    "    \"\"\"\n",
    "    return np.sqrt((lat2 - lat1) ** 2 + (lon2 - lon1) ** 2)\n",
    "\n",
    "# Distancia Manhattan\n",
    "def distancia_absoluta(lat1, lon1, lat2, lon2):\n",
    "    \"\"\"\n",
    "    Calcula la suma de las diferencias absolutas entre latitud y longitud.\n",
    "    Es decir, la distancia Manhattan en coordenadas.\n",
    "    \"\"\"\n",
    "    return np.abs(lat2 - lat1) + np.abs(lon2 - lon1)"
   ]
  },
  {
   "cell_type": "code",
   "execution_count": 23,
   "id": "d5ed244b",
   "metadata": {},
   "outputs": [],
   "source": [
    "df[\"dist_euclidiana\"] = distancia_euclidiana(\n",
    "    df[\"pickup_latitude\"], df[\"pickup_longitude\"],\n",
    "    df[\"dropoff_latitude\"], df[\"dropoff_longitude\"]\n",
    ")\n",
    "df[\"dist_absoluta\"] = distancia_absoluta(\n",
    "    df[\"pickup_latitude\"], df[\"pickup_longitude\"],\n",
    "    df[\"dropoff_latitude\"], df[\"dropoff_longitude\"]\n",
    ")"
   ]
  },
  {
   "cell_type": "code",
   "execution_count": 14,
   "id": "b100b52b",
   "metadata": {},
   "outputs": [
    {
     "name": "stdout",
     "output_type": "stream",
     "text": [
      "        key                           date  fare_amount  \\\n",
      "0  24238194    2015-05-07 19:52:06.0000003          7.5   \n",
      "1  27835199    2009-07-17 20:04:56.0000002          7.7   \n",
      "2  44984355   2009-08-24 21:45:00.00000061         12.9   \n",
      "3  25894730    2009-06-26 08:22:21.0000001          5.3   \n",
      "4  17610152  2014-08-28 17:47:00.000000188         16.0   \n",
      "\n",
      "           pickup_datetime  pickup_longitude  pickup_latitude  \\\n",
      "0  2015-05-07 19:52:06 UTC        -73.999817        40.738354   \n",
      "1  2009-07-17 20:04:56 UTC        -73.994355        40.728225   \n",
      "2  2009-08-24 21:45:00 UTC        -74.005043        40.740770   \n",
      "3  2009-06-26 08:22:21 UTC        -73.976124        40.790844   \n",
      "4  2014-08-28 17:47:00 UTC        -73.925023        40.744085   \n",
      "\n",
      "   dropoff_longitude  dropoff_latitude  passenger_count  dist_euclidiana  \\\n",
      "0         -73.999512         40.723217                1         0.015140   \n",
      "1         -73.994710         40.750325                1         0.022103   \n",
      "2         -73.962565         40.772647                1         0.053109   \n",
      "3         -73.965316         40.803349                3         0.016528   \n",
      "4         -73.973082         40.761247                5         0.051031   \n",
      "\n",
      "   dist_absoluta  \n",
      "0       0.015442  \n",
      "1       0.022455  \n",
      "2       0.074355  \n",
      "3       0.023313  \n",
      "4       0.065221  \n",
      "             key                          date  fare_amount  \\\n",
      "199995  42598914  2012-10-28 10:49:00.00000053          3.0   \n",
      "199996  16382965   2014-03-14 01:09:00.0000008          7.5   \n",
      "199997  27804658  2009-06-29 00:42:00.00000078         30.9   \n",
      "199998  20259894   2015-05-20 14:56:25.0000004         14.5   \n",
      "199999  11951496  2010-05-15 04:08:00.00000076         14.1   \n",
      "\n",
      "                pickup_datetime  pickup_longitude  pickup_latitude  \\\n",
      "199995  2012-10-28 10:49:00 UTC        -73.987042        40.739367   \n",
      "199996  2014-03-14 01:09:00 UTC        -73.984722        40.736837   \n",
      "199997  2009-06-29 00:42:00 UTC        -73.986017        40.756487   \n",
      "199998  2015-05-20 14:56:25 UTC        -73.997124        40.725452   \n",
      "199999  2010-05-15 04:08:00 UTC        -73.984395        40.720077   \n",
      "\n",
      "        dropoff_longitude  dropoff_latitude  passenger_count  dist_euclidiana  \\\n",
      "199995         -73.986525         40.740297                1         0.001064   \n",
      "199996         -74.006672         40.739620                1         0.022126   \n",
      "199997         -73.858957         40.692588                2         0.142223   \n",
      "199998         -73.983215         40.695415                1         0.033101   \n",
      "199999         -73.985508         40.768793                1         0.048729   \n",
      "\n",
      "        dist_absoluta  \n",
      "199995       0.001447  \n",
      "199996       0.024733  \n",
      "199997       0.190959  \n",
      "199998       0.043945  \n",
      "199999       0.049829  \n"
     ]
    }
   ],
   "source": [
    "print(df.head())  # Muestra las primeras 5 filas de todo el df\n",
    "print(df.tail())  # Muestra las últimas 5 filas"
   ]
  },
  {
   "cell_type": "code",
   "execution_count": 13,
   "id": "162dc09d",
   "metadata": {},
   "outputs": [
    {
     "data": {
      "text/html": [
       "<div>\n",
       "<style scoped>\n",
       "    .dataframe tbody tr th:only-of-type {\n",
       "        vertical-align: middle;\n",
       "    }\n",
       "\n",
       "    .dataframe tbody tr th {\n",
       "        vertical-align: top;\n",
       "    }\n",
       "\n",
       "    .dataframe thead th {\n",
       "        text-align: right;\n",
       "    }\n",
       "</style>\n",
       "<table border=\"1\" class=\"dataframe\">\n",
       "  <thead>\n",
       "    <tr style=\"text-align: right;\">\n",
       "      <th></th>\n",
       "      <th>dist_euclidiana</th>\n",
       "      <th>dist_absoluta</th>\n",
       "      <th>fare_amount</th>\n",
       "    </tr>\n",
       "  </thead>\n",
       "  <tbody>\n",
       "    <tr>\n",
       "      <th>0</th>\n",
       "      <td>0.015140</td>\n",
       "      <td>0.015442</td>\n",
       "      <td>7.5</td>\n",
       "    </tr>\n",
       "    <tr>\n",
       "      <th>1</th>\n",
       "      <td>0.022103</td>\n",
       "      <td>0.022455</td>\n",
       "      <td>7.7</td>\n",
       "    </tr>\n",
       "    <tr>\n",
       "      <th>2</th>\n",
       "      <td>0.053109</td>\n",
       "      <td>0.074355</td>\n",
       "      <td>12.9</td>\n",
       "    </tr>\n",
       "    <tr>\n",
       "      <th>3</th>\n",
       "      <td>0.016528</td>\n",
       "      <td>0.023313</td>\n",
       "      <td>5.3</td>\n",
       "    </tr>\n",
       "    <tr>\n",
       "      <th>4</th>\n",
       "      <td>0.051031</td>\n",
       "      <td>0.065221</td>\n",
       "      <td>16.0</td>\n",
       "    </tr>\n",
       "    <tr>\n",
       "      <th>5</th>\n",
       "      <td>0.000000</td>\n",
       "      <td>0.000000</td>\n",
       "      <td>4.9</td>\n",
       "    </tr>\n",
       "    <tr>\n",
       "      <th>6</th>\n",
       "      <td>0.120825</td>\n",
       "      <td>0.170584</td>\n",
       "      <td>24.5</td>\n",
       "    </tr>\n",
       "    <tr>\n",
       "      <th>7</th>\n",
       "      <td>0.000000</td>\n",
       "      <td>0.000000</td>\n",
       "      <td>2.5</td>\n",
       "    </tr>\n",
       "    <tr>\n",
       "      <th>8</th>\n",
       "      <td>0.027623</td>\n",
       "      <td>0.029763</td>\n",
       "      <td>9.7</td>\n",
       "    </tr>\n",
       "    <tr>\n",
       "      <th>9</th>\n",
       "      <td>0.050496</td>\n",
       "      <td>0.071250</td>\n",
       "      <td>12.5</td>\n",
       "    </tr>\n",
       "  </tbody>\n",
       "</table>\n",
       "</div>"
      ],
      "text/plain": [
       "   dist_euclidiana  dist_absoluta  fare_amount\n",
       "0         0.015140       0.015442          7.5\n",
       "1         0.022103       0.022455          7.7\n",
       "2         0.053109       0.074355         12.9\n",
       "3         0.016528       0.023313          5.3\n",
       "4         0.051031       0.065221         16.0\n",
       "5         0.000000       0.000000          4.9\n",
       "6         0.120825       0.170584         24.5\n",
       "7         0.000000       0.000000          2.5\n",
       "8         0.027623       0.029763          9.7\n",
       "9         0.050496       0.071250         12.5"
      ]
     },
     "execution_count": 13,
     "metadata": {},
     "output_type": "execute_result"
    }
   ],
   "source": [
    "df[[\"dist_euclidiana\", \"dist_absoluta\", \"fare_amount\"]].head(10)"
   ]
  },
  {
   "cell_type": "code",
   "execution_count": 16,
   "id": "c96bc163",
   "metadata": {},
   "outputs": [
    {
     "name": "stdout",
     "output_type": "stream",
     "text": [
      "       dist_euclidiana  dist_absoluta\n",
      "count    199999.000000  199999.000000\n",
      "mean          0.256968       0.328972\n",
      "std           9.216476      11.627817\n",
      "min           0.000000       0.000000\n",
      "25%           0.012432       0.015863\n",
      "50%           0.021489       0.027697\n",
      "75%           0.038335       0.050330\n",
      "max        2434.714983    3270.155787\n"
     ]
    }
   ],
   "source": [
    "print(df[[\"dist_euclidiana\", \"dist_absoluta\"]].describe())"
   ]
  },
  {
   "cell_type": "code",
   "execution_count": 25,
   "id": "6a738442",
   "metadata": {},
   "outputs": [],
   "source": [
    "# Distancia haversine (en km)\n",
    "def haversine(lat1, lon1, lat2, lon2):\n",
    "    # Radio de la Tierra en km\n",
    "    R = 6371\n",
    "    phi1, phi2 = np.radians(lat1), np.radians(lat2)\n",
    "    dphi = np.radians(lat2 - lat1)\n",
    "    dlambda = np.radians(lon2 - lon1)\n",
    "    a = np.sin(dphi/2)**2 + np.cos(phi1)*np.cos(phi2)*np.sin(dlambda/2)**2\n",
    "    return 2*R*np.arcsin(np.sqrt(a))"
   ]
  },
  {
   "cell_type": "code",
   "execution_count": 27,
   "id": "f6d24db8",
   "metadata": {},
   "outputs": [],
   "source": [
    "df['dist_haversine'] = haversine(\n",
    "    df['pickup_latitude'], df['pickup_longitude'],\n",
    "    df['dropoff_latitude'], df['dropoff_longitude'])"
   ]
  },
  {
   "cell_type": "code",
   "execution_count": 24,
   "id": "dfdb4bc2",
   "metadata": {},
   "outputs": [
    {
     "ename": "KeyError",
     "evalue": "\"['dist_haversine'] not in index\"",
     "output_type": "error",
     "traceback": [
      "\u001b[31m---------------------------------------------------------------------------\u001b[39m",
      "\u001b[31mKeyError\u001b[39m                                  Traceback (most recent call last)",
      "\u001b[36mCell\u001b[39m\u001b[36m \u001b[39m\u001b[32mIn[24]\u001b[39m\u001b[32m, line 1\u001b[39m\n\u001b[32m----> \u001b[39m\u001b[32m1\u001b[39m \u001b[43mdf\u001b[49m\u001b[43m[\u001b[49m\u001b[43m[\u001b[49m\u001b[33;43m\"\u001b[39;49m\u001b[33;43mdist_euclidiana\u001b[39;49m\u001b[33;43m\"\u001b[39;49m\u001b[43m,\u001b[49m\u001b[43m \u001b[49m\u001b[33;43m\"\u001b[39;49m\u001b[33;43mdist_absoluta\u001b[39;49m\u001b[33;43m\"\u001b[39;49m\u001b[43m,\u001b[49m\u001b[43m \u001b[49m\u001b[33;43m\"\u001b[39;49m\u001b[33;43mdist_haversine\u001b[39;49m\u001b[33;43m\"\u001b[39;49m\u001b[43m,\u001b[49m\u001b[43m \u001b[49m\u001b[33;43m\"\u001b[39;49m\u001b[33;43mfare_amount\u001b[39;49m\u001b[33;43m\"\u001b[39;49m\u001b[43m]\u001b[49m\u001b[43m]\u001b[49m.head(\u001b[32m10\u001b[39m)\n",
      "\u001b[36mFile \u001b[39m\u001b[32mc:\\Users\\FZ\\Desktop\\TUIA_4TO\\AA1\\venvAA1\\Lib\\site-packages\\pandas\\core\\frame.py:4113\u001b[39m, in \u001b[36mDataFrame.__getitem__\u001b[39m\u001b[34m(self, key)\u001b[39m\n\u001b[32m   4111\u001b[39m     \u001b[38;5;28;01mif\u001b[39;00m is_iterator(key):\n\u001b[32m   4112\u001b[39m         key = \u001b[38;5;28mlist\u001b[39m(key)\n\u001b[32m-> \u001b[39m\u001b[32m4113\u001b[39m     indexer = \u001b[38;5;28;43mself\u001b[39;49m\u001b[43m.\u001b[49m\u001b[43mcolumns\u001b[49m\u001b[43m.\u001b[49m\u001b[43m_get_indexer_strict\u001b[49m\u001b[43m(\u001b[49m\u001b[43mkey\u001b[49m\u001b[43m,\u001b[49m\u001b[43m \u001b[49m\u001b[33;43m\"\u001b[39;49m\u001b[33;43mcolumns\u001b[39;49m\u001b[33;43m\"\u001b[39;49m\u001b[43m)\u001b[49m[\u001b[32m1\u001b[39m]\n\u001b[32m   4115\u001b[39m \u001b[38;5;66;03m# take() does not accept boolean indexers\u001b[39;00m\n\u001b[32m   4116\u001b[39m \u001b[38;5;28;01mif\u001b[39;00m \u001b[38;5;28mgetattr\u001b[39m(indexer, \u001b[33m\"\u001b[39m\u001b[33mdtype\u001b[39m\u001b[33m\"\u001b[39m, \u001b[38;5;28;01mNone\u001b[39;00m) == \u001b[38;5;28mbool\u001b[39m:\n",
      "\u001b[36mFile \u001b[39m\u001b[32mc:\\Users\\FZ\\Desktop\\TUIA_4TO\\AA1\\venvAA1\\Lib\\site-packages\\pandas\\core\\indexes\\base.py:6212\u001b[39m, in \u001b[36mIndex._get_indexer_strict\u001b[39m\u001b[34m(self, key, axis_name)\u001b[39m\n\u001b[32m   6209\u001b[39m \u001b[38;5;28;01melse\u001b[39;00m:\n\u001b[32m   6210\u001b[39m     keyarr, indexer, new_indexer = \u001b[38;5;28mself\u001b[39m._reindex_non_unique(keyarr)\n\u001b[32m-> \u001b[39m\u001b[32m6212\u001b[39m \u001b[38;5;28;43mself\u001b[39;49m\u001b[43m.\u001b[49m\u001b[43m_raise_if_missing\u001b[49m\u001b[43m(\u001b[49m\u001b[43mkeyarr\u001b[49m\u001b[43m,\u001b[49m\u001b[43m \u001b[49m\u001b[43mindexer\u001b[49m\u001b[43m,\u001b[49m\u001b[43m \u001b[49m\u001b[43maxis_name\u001b[49m\u001b[43m)\u001b[49m\n\u001b[32m   6214\u001b[39m keyarr = \u001b[38;5;28mself\u001b[39m.take(indexer)\n\u001b[32m   6215\u001b[39m \u001b[38;5;28;01mif\u001b[39;00m \u001b[38;5;28misinstance\u001b[39m(key, Index):\n\u001b[32m   6216\u001b[39m     \u001b[38;5;66;03m# GH 42790 - Preserve name from an Index\u001b[39;00m\n",
      "\u001b[36mFile \u001b[39m\u001b[32mc:\\Users\\FZ\\Desktop\\TUIA_4TO\\AA1\\venvAA1\\Lib\\site-packages\\pandas\\core\\indexes\\base.py:6264\u001b[39m, in \u001b[36mIndex._raise_if_missing\u001b[39m\u001b[34m(self, key, indexer, axis_name)\u001b[39m\n\u001b[32m   6261\u001b[39m     \u001b[38;5;28;01mraise\u001b[39;00m \u001b[38;5;167;01mKeyError\u001b[39;00m(\u001b[33mf\u001b[39m\u001b[33m\"\u001b[39m\u001b[33mNone of [\u001b[39m\u001b[38;5;132;01m{\u001b[39;00mkey\u001b[38;5;132;01m}\u001b[39;00m\u001b[33m] are in the [\u001b[39m\u001b[38;5;132;01m{\u001b[39;00maxis_name\u001b[38;5;132;01m}\u001b[39;00m\u001b[33m]\u001b[39m\u001b[33m\"\u001b[39m)\n\u001b[32m   6263\u001b[39m not_found = \u001b[38;5;28mlist\u001b[39m(ensure_index(key)[missing_mask.nonzero()[\u001b[32m0\u001b[39m]].unique())\n\u001b[32m-> \u001b[39m\u001b[32m6264\u001b[39m \u001b[38;5;28;01mraise\u001b[39;00m \u001b[38;5;167;01mKeyError\u001b[39;00m(\u001b[33mf\u001b[39m\u001b[33m\"\u001b[39m\u001b[38;5;132;01m{\u001b[39;00mnot_found\u001b[38;5;132;01m}\u001b[39;00m\u001b[33m not in index\u001b[39m\u001b[33m\"\u001b[39m)\n",
      "\u001b[31mKeyError\u001b[39m: \"['dist_haversine'] not in index\""
     ]
    }
   ],
   "source": [
    "df[[\"dist_euclidiana\", \"dist_absoluta\", \"dist_haversine\", \"fare_amount\"]].head(10)"
   ]
  },
  {
   "cell_type": "code",
   "execution_count": 25,
   "id": "dc153670",
   "metadata": {},
   "outputs": [
    {
     "data": {
      "text/html": [
       "<div>\n",
       "<style scoped>\n",
       "    .dataframe tbody tr th:only-of-type {\n",
       "        vertical-align: middle;\n",
       "    }\n",
       "\n",
       "    .dataframe tbody tr th {\n",
       "        vertical-align: top;\n",
       "    }\n",
       "\n",
       "    .dataframe thead th {\n",
       "        text-align: right;\n",
       "    }\n",
       "</style>\n",
       "<table border=\"1\" class=\"dataframe\">\n",
       "  <thead>\n",
       "    <tr style=\"text-align: right;\">\n",
       "      <th></th>\n",
       "      <th>fare_amount</th>\n",
       "      <th>dist_absoluta</th>\n",
       "    </tr>\n",
       "  </thead>\n",
       "  <tbody>\n",
       "    <tr>\n",
       "      <th>21658</th>\n",
       "      <td>0.01</td>\n",
       "      <td>0.000023</td>\n",
       "    </tr>\n",
       "    <tr>\n",
       "      <th>191228</th>\n",
       "      <td>0.01</td>\n",
       "      <td>0.098550</td>\n",
       "    </tr>\n",
       "  </tbody>\n",
       "</table>\n",
       "</div>"
      ],
      "text/plain": [
       "        fare_amount  dist_absoluta\n",
       "21658          0.01       0.000023\n",
       "191228         0.01       0.098550"
      ]
     },
     "execution_count": 25,
     "metadata": {},
     "output_type": "execute_result"
    }
   ],
   "source": [
    "df[df['fare_amount'] == 0.01][['fare_amount', 'dist_absoluta']]"
   ]
  },
  {
   "cell_type": "code",
   "execution_count": 26,
   "id": "ee27c5b6",
   "metadata": {},
   "outputs": [
    {
     "data": {
      "text/html": [
       "<div>\n",
       "<style scoped>\n",
       "    .dataframe tbody tr th:only-of-type {\n",
       "        vertical-align: middle;\n",
       "    }\n",
       "\n",
       "    .dataframe tbody tr th {\n",
       "        vertical-align: top;\n",
       "    }\n",
       "\n",
       "    .dataframe thead th {\n",
       "        text-align: right;\n",
       "    }\n",
       "</style>\n",
       "<table border=\"1\" class=\"dataframe\">\n",
       "  <thead>\n",
       "    <tr style=\"text-align: right;\">\n",
       "      <th></th>\n",
       "      <th>fare_amount</th>\n",
       "      <th>dist_absoluta</th>\n",
       "    </tr>\n",
       "  </thead>\n",
       "  <tbody>\n",
       "    <tr>\n",
       "      <th>149342</th>\n",
       "      <td>0.11</td>\n",
       "      <td>0.000032</td>\n",
       "    </tr>\n",
       "  </tbody>\n",
       "</table>\n",
       "</div>"
      ],
      "text/plain": [
       "        fare_amount  dist_absoluta\n",
       "149342         0.11       0.000032"
      ]
     },
     "execution_count": 26,
     "metadata": {},
     "output_type": "execute_result"
    }
   ],
   "source": [
    "df[df['fare_amount'] == 0.11][['fare_amount', 'dist_absoluta']]"
   ]
  },
  {
   "cell_type": "code",
   "execution_count": 27,
   "id": "85d58388",
   "metadata": {},
   "outputs": [
    {
     "data": {
      "text/html": [
       "<div>\n",
       "<style scoped>\n",
       "    .dataframe tbody tr th:only-of-type {\n",
       "        vertical-align: middle;\n",
       "    }\n",
       "\n",
       "    .dataframe tbody tr th {\n",
       "        vertical-align: top;\n",
       "    }\n",
       "\n",
       "    .dataframe thead th {\n",
       "        text-align: right;\n",
       "    }\n",
       "</style>\n",
       "<table border=\"1\" class=\"dataframe\">\n",
       "  <thead>\n",
       "    <tr style=\"text-align: right;\">\n",
       "      <th></th>\n",
       "      <th>fare_amount</th>\n",
       "      <th>dist_absoluta</th>\n",
       "    </tr>\n",
       "  </thead>\n",
       "  <tbody>\n",
       "    <tr>\n",
       "      <th>20744</th>\n",
       "      <td>0.0</td>\n",
       "      <td>0.000000</td>\n",
       "    </tr>\n",
       "    <tr>\n",
       "      <th>22182</th>\n",
       "      <td>0.0</td>\n",
       "      <td>0.103810</td>\n",
       "    </tr>\n",
       "    <tr>\n",
       "      <th>87467</th>\n",
       "      <td>0.0</td>\n",
       "      <td>114.776978</td>\n",
       "    </tr>\n",
       "    <tr>\n",
       "      <th>156738</th>\n",
       "      <td>0.0</td>\n",
       "      <td>0.000008</td>\n",
       "    </tr>\n",
       "    <tr>\n",
       "      <th>197172</th>\n",
       "      <td>0.0</td>\n",
       "      <td>0.000000</td>\n",
       "    </tr>\n",
       "  </tbody>\n",
       "</table>\n",
       "</div>"
      ],
      "text/plain": [
       "        fare_amount  dist_absoluta\n",
       "20744           0.0       0.000000\n",
       "22182           0.0       0.103810\n",
       "87467           0.0     114.776978\n",
       "156738          0.0       0.000008\n",
       "197172          0.0       0.000000"
      ]
     },
     "execution_count": 27,
     "metadata": {},
     "output_type": "execute_result"
    }
   ],
   "source": [
    "df[df['fare_amount'] == 0][['fare_amount', 'dist_absoluta']]"
   ]
  },
  {
   "cell_type": "code",
   "execution_count": 9,
   "id": "2d02190b",
   "metadata": {},
   "outputs": [
    {
     "name": "stdout",
     "output_type": "stream",
     "text": [
      "<class 'pandas.core.frame.DataFrame'>\n",
      "RangeIndex: 200000 entries, 0 to 199999\n",
      "Data columns (total 9 columns):\n",
      " #   Column             Non-Null Count   Dtype  \n",
      "---  ------             --------------   -----  \n",
      " 0   key                200000 non-null  int64  \n",
      " 1   date               200000 non-null  object \n",
      " 2   fare_amount        200000 non-null  float64\n",
      " 3   pickup_datetime    200000 non-null  object \n",
      " 4   pickup_longitude   200000 non-null  float64\n",
      " 5   pickup_latitude    200000 non-null  float64\n",
      " 6   dropoff_longitude  199999 non-null  float64\n",
      " 7   dropoff_latitude   199999 non-null  float64\n",
      " 8   passenger_count    200000 non-null  int64  \n",
      "dtypes: float64(5), int64(2), object(2)\n",
      "memory usage: 13.7+ MB\n"
     ]
    }
   ],
   "source": [
    "df.info()"
   ]
  },
  {
   "cell_type": "code",
   "execution_count": null,
   "id": "83c5b442",
   "metadata": {},
   "outputs": [],
   "source": [
    "# 4. Análisis y tratamiento de datos faltantes\n",
    "# Comentario: Se identifican valores faltantes y se decide cómo tratarlos (eliminación, imputación, etc.).\n",
    "# - df.isnull().sum()\n",
    "# - Justificación de la decisión tomada"
   ]
  },
  {
   "cell_type": "code",
   "execution_count": null,
   "id": "922c7813",
   "metadata": {},
   "outputs": [],
   "source": [
    "# 5. Análisis y tratamiento de datos atípicos (outliers)\n",
    "# Comentario: Se detectan y tratan valores atípicos en las variables numéricas.\n",
    "# - Visualización con boxplots\n",
    "# - Decisión sobre el tratamiento (eliminación, ajuste, etc.)"
   ]
  },
  {
   "cell_type": "code",
   "execution_count": null,
   "id": "d29b808b",
   "metadata": {},
   "outputs": [],
   "source": [
    "# 6. Visualización de datos\n",
    "# Comentario: Se grafican histogramas y scatterplots para analizar la distribución y relaciones entre variables.\n",
    "# - Histograma de cada variable\n",
    "# - Scatterplots entre variables relevantes\n",
    "# - Diagramas de caja"
   ]
  },
  {
   "cell_type": "code",
   "execution_count": null,
   "id": "25d55107",
   "metadata": {},
   "outputs": [],
   "source": [
    "# 7. Codificación de variables categóricas (si corresponde)\n",
    "# Comentario: Se codifican variables categóricas para su uso en modelos (OneHotEncoder, LabelEncoder, etc.).\n",
    "# - Ejemplo: df['var'] = ..."
   ]
  },
  {
   "cell_type": "code",
   "execution_count": null,
   "id": "e07709af",
   "metadata": {},
   "outputs": [],
   "source": [
    "# 8. Matriz de correlación\n",
    "# Comentario: Se calcula la matriz de correlación para analizar dependencias entre variables.\n",
    "# - sns.heatmap(df.corr(), annot=True)"
   ]
  },
  {
   "cell_type": "code",
   "execution_count": null,
   "id": "0b78becd",
   "metadata": {},
   "outputs": [],
   "source": [
    "# 9. Estandarización o escalado de datos\n",
    "# Comentario: Se aplican técnicas de escalado para mejorar el desempeño de los modelos.\n",
    "# - StandardScaler, MinMaxScaler, etc."
   ]
  },
  {
   "cell_type": "code",
   "execution_count": null,
   "id": "37740681",
   "metadata": {},
   "outputs": [],
   "source": [
    "# 10. División de datos: Train-Test (y opcionalmente Validación)\n",
    "# Comentario: Se divide el conjunto de datos en entrenamiento y prueba.\n",
    "# - from sklearn.model_selection import train_test_split\n",
    "# - X_train, X_test, y_train, y_test = train_test_split(...)\n",
    "\n",
    "X_train, X_test, y_train, y_test = train_test_split(df.drop(columns='fare_amount'), df['fare_amount'], test_size=0.2, random_state=42)"
   ]
  },
  {
   "cell_type": "code",
   "execution_count": null,
   "id": "e38994b9",
   "metadata": {},
   "outputs": [],
   "source": [
    "X_train.describe()"
   ]
  },
  {
   "cell_type": "code",
   "execution_count": null,
   "id": "11e68b28",
   "metadata": {},
   "outputs": [],
   "source": [
    "# 11. Implementación de modelos de regresión\n",
    "# 11.a. Regresión lineal múltiple (LinearRegression)\n",
    "# Comentario: Se ajusta el modelo base de regresión lineal."
   ]
  },
  {
   "cell_type": "code",
   "execution_count": null,
   "id": "38c59ec5",
   "metadata": {},
   "outputs": [],
   "source": [
    "# 11.b. Métodos de gradiente descendente (SGDRegressor, otros)\n",
    "# Comentario: Se prueban diferentes variantes de gradiente descendente.\n",
    "# - Se grafican errores vs iteraciones (loss vs epochs)"
   ]
  },
  {
   "cell_type": "code",
   "execution_count": null,
   "id": "e0f5d2bb",
   "metadata": {},
   "outputs": [],
   "source": [
    "# 11.c. Métodos de regularización (Lasso, Ridge, Elastic Net)\n",
    "# Comentario: Se aplican modelos con regularización y se varía el coeficiente.\n",
    "# - Se comparan métricas para distintos valores de alpha."
   ]
  },
  {
   "cell_type": "code",
   "execution_count": null,
   "id": "324d7c6b",
   "metadata": {},
   "outputs": [],
   "source": [
    "# 12. Evaluación de modelos: métricas de regresión\n",
    "# Comentario: Se calculan las métricas elegidas para train y test (R2, MSE, RMSE, MAE, MAPE).\n",
    "# - Justificación de las métricas utilizadas"
   ]
  },
  {
   "cell_type": "code",
   "execution_count": null,
   "id": "0a7dd4f3",
   "metadata": {},
   "outputs": [],
   "source": [
    "# 13. Gráficos de residuos\n",
    "# Comentario: Se grafican los residuos para analizar el ajuste de los modelos.\n"
   ]
  },
  {
   "cell_type": "code",
   "execution_count": null,
   "id": "84d88767",
   "metadata": {},
   "outputs": [],
   "source": [
    "# 14. Análisis de fitting y conclusiones intermedias\n",
    "# Comentario: Se analiza el fitting del modelo y se discuten los efectos de la regularización y gradiente descendente.\n"
   ]
  },
  {
   "cell_type": "code",
   "execution_count": null,
   "id": "c313e9f4",
   "metadata": {},
   "outputs": [],
   "source": [
    "# 15. Optimización y comparación de hiperparámetros\n",
    "# Comentario: Se varían los hiperparámetros y se observa el efecto en el desempeño del modelo.\n",
    "# - GridSearchCV, RandomizedSearchCV, o análisis manual\n"
   ]
  },
  {
   "cell_type": "code",
   "execution_count": null,
   "id": "79fdb5e4",
   "metadata": {},
   "outputs": [],
   "source": [
    "# 16. Comparación de modelos\n",
    "# Comentario: Se compara el desempeño de los distintos modelos y se selecciona el mejor.\n",
    "# - Justificación de la métrica de comparación"
   ]
  },
  {
   "cell_type": "code",
   "execution_count": null,
   "id": "a20b0960",
   "metadata": {},
   "outputs": [],
   "source": [
    "# 17. Conclusiones finales\n",
    "# Comentario: Se redacta una conclusión sobre el trabajo realizado, principales hallazgos y aprendizajes.\n"
   ]
  }
 ],
 "metadata": {
  "kernelspec": {
   "display_name": "Python 3",
   "language": "python",
   "name": "python3"
  },
  "language_info": {
   "codemirror_mode": {
    "name": "ipython",
    "version": 3
   },
   "file_extension": ".py",
   "mimetype": "text/x-python",
   "name": "python",
   "nbconvert_exporter": "python",
   "pygments_lexer": "ipython3",
   "version": "3.13.7"
  }
 },
 "nbformat": 4,
 "nbformat_minor": 5
}
